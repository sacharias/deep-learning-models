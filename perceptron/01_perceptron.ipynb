{
 "nbformat": 4,
 "nbformat_minor": 2,
 "metadata": {
  "language_info": {
   "name": "python",
   "codemirror_mode": {
    "name": "ipython",
    "version": 3
   },
   "version": "3.7.4-final"
  },
  "orig_nbformat": 2,
  "file_extension": ".py",
  "mimetype": "text/x-python",
  "name": "python",
  "npconvert_exporter": "python",
  "pygments_lexer": "ipython3",
  "version": 3,
  "kernelspec": {
   "name": "python37464bitbasecondaf4d1cf6ad102495bbe1237ba31aed401",
   "display_name": "Python 3.7.4 64-bit ('base': conda)"
  }
 },
 "cells": [
  {
   "cell_type": "code",
   "execution_count": null,
   "metadata": {},
   "outputs": [],
   "source": [
    "# %run, %load, \n",
    "%load_ext autoreload\n",
    "%autoreload 2"
   ]
  },
  {
   "cell_type": "code",
   "execution_count": 1,
   "metadata": {},
   "outputs": [],
   "source": [
    "import torch\n",
    "from torchvision import datasets\n",
    "from torchvision import transforms\n",
    "from torch.utils.data import DataLoader\n",
    "import torch.nn.functional as F\n",
    "# from tqdm import tqdm\n",
    "import time\n",
    "\n",
    "if torch.cuda.is_available():\n",
    "    torch.backends.cudnn.deterministic = True\n"
   ]
  },
  {
   "cell_type": "code",
   "execution_count": 2,
   "metadata": {},
   "outputs": [],
   "source": [
    "device = torch.device(\"cpu\")\n",
    "\n",
    "# Hyperparameters\n",
    "random_seed = 1\n",
    "learning_rate = 0.1\n",
    "num_epochs = 4\n",
    "batch_size = 64\n",
    "\n",
    "# Architecture\n",
    "num_features = 784\n",
    "num_hidden_1 = 128\n",
    "num_hidden_2 = 256\n",
    "num_classes = 10\n"
   ]
  },
  {
   "cell_type": "code",
   "execution_count": 3,
   "metadata": {},
   "outputs": [],
   "source": [
    "# Load data\n",
    "train_dataset = datasets.MNIST(root='data', train=True, transform=transforms.ToTensor(), download=True)\n",
    "test_dataset = datasets.MNIST(root='data', train=True, transform=transforms.ToTensor(), download=True)\n",
    "\n",
    "train_loader = DataLoader(dataset=train_dataset, batch_size=batch_size, shuffle=True)\n",
    "test_loader = DataLoader(dataset=test_dataset, batch_size=batch_size, shuffle=False)\n"
   ]
  },
  {
   "cell_type": "code",
   "execution_count": 4,
   "metadata": {},
   "outputs": [
    {
     "name": "stdout",
     "output_type": "stream",
     "text": "image batch dimensions: torch.Size([64, 1, 28, 28])\nimage label dim: torch.Size([64])\n"
    }
   ],
   "source": [
    "for images, labels in train_loader:\n",
    "    print(\"image batch dimensions:\", images.shape) # batch_size, 1, row, column\n",
    "    print(\"image label dim:\", labels.shape) \n",
    "    break"
   ]
  },
  {
   "cell_type": "code",
   "execution_count": 5,
   "metadata": {},
   "outputs": [],
   "source": [
    "# Model\n",
    "\n",
    "class MultiLayerPerceptron(torch.nn.Module):\n",
    "    def __init__(self, num_features, num_classes):\n",
    "        super(MultiLayerPerceptron, self).__init__()\n",
    "\n",
    "        self.linear_1 = torch.nn.Linear(num_features, num_hidden_1) # Xavier/Glorot init\n",
    "        self.linear_2 = torch.nn.Linear(num_hidden_1, num_hidden_2)\n",
    "        self.linear_out = torch.nn.Linear(num_hidden_2, num_classes)\n",
    "\n",
    "    def forward(self, x):\n",
    "        out = F.relu(self.linear_1(x))\n",
    "        out = F.relu(self.linear_2(out))\n",
    "        logits = self.linear_out(out)\n",
    "        probs = F.log_softmax(logits, dim=1)\n",
    "        return logits, probs\n",
    "\n",
    "torch.manual_seed(random_seed)\n",
    "model = MultiLayerPerceptron(num_features=num_features, num_classes=num_classes)\n",
    "\n",
    "model = model.to(device) # put on GPU\n",
    "\n",
    "optimizer = torch.optim.SGD(model.parameters(), lr=learning_rate)\n"
   ]
  },
  {
   "cell_type": "code",
   "execution_count": 6,
   "metadata": {},
   "outputs": [
    {
     "name": "stdout",
     "output_type": "stream",
     "text": "Epoch:  1/ 4 \tBatch:   0/938 \tCost: 2.3\nEpoch:  1/ 4 \tBatch:  50/938 \tCost: 1.7\nEpoch:  1/ 4 \tBatch: 100/938 \tCost: 0.72\nEpoch:  1/ 4 \tBatch: 150/938 \tCost: 0.5\nEpoch:  1/ 4 \tBatch: 200/938 \tCost: 0.39\nEpoch:  1/ 4 \tBatch: 250/938 \tCost: 0.48\nEpoch:  1/ 4 \tBatch: 300/938 \tCost: 0.42\nEpoch:  1/ 4 \tBatch: 350/938 \tCost: 0.14\nEpoch:  1/ 4 \tBatch: 400/938 \tCost: 0.28\nEpoch:  1/ 4 \tBatch: 450/938 \tCost: 0.3\nEpoch:  1/ 4 \tBatch: 500/938 \tCost: 0.38\nEpoch:  1/ 4 \tBatch: 550/938 \tCost: 0.26\nEpoch:  1/ 4 \tBatch: 600/938 \tCost: 0.21\nEpoch:  1/ 4 \tBatch: 650/938 \tCost: 0.37\nEpoch:  1/ 4 \tBatch: 700/938 \tCost: 0.18\nEpoch:  1/ 4 \tBatch: 750/938 \tCost: 0.3\nEpoch:  1/ 4 \tBatch: 800/938 \tCost: 0.12\nEpoch:  1/ 4 \tBatch: 850/938 \tCost: 0.11\nEpoch:  1/ 4 \tBatch: 900/938 \tCost: 0.31\ntraining accuracy: 92.9\nTime: 0.29 min \n\nEpoch:  2/ 4 \tBatch:   0/938 \tCost: 0.21\nEpoch:  2/ 4 \tBatch:  50/938 \tCost: 0.2\nEpoch:  2/ 4 \tBatch: 100/938 \tCost: 0.18\nEpoch:  2/ 4 \tBatch: 150/938 \tCost: 0.32\nEpoch:  2/ 4 \tBatch: 200/938 \tCost: 0.29\nEpoch:  2/ 4 \tBatch: 250/938 \tCost: 0.34\nEpoch:  2/ 4 \tBatch: 300/938 \tCost: 0.071\nEpoch:  2/ 4 \tBatch: 350/938 \tCost: 0.12\nEpoch:  2/ 4 \tBatch: 400/938 \tCost: 0.13\nEpoch:  2/ 4 \tBatch: 450/938 \tCost: 0.17\nEpoch:  2/ 4 \tBatch: 500/938 \tCost: 0.073\nEpoch:  2/ 4 \tBatch: 550/938 \tCost: 0.24\nEpoch:  2/ 4 \tBatch: 600/938 \tCost: 0.2\nEpoch:  2/ 4 \tBatch: 650/938 \tCost: 0.14\nEpoch:  2/ 4 \tBatch: 700/938 \tCost: 0.14\nEpoch:  2/ 4 \tBatch: 750/938 \tCost: 0.46\nEpoch:  2/ 4 \tBatch: 800/938 \tCost: 0.27\nEpoch:  2/ 4 \tBatch: 850/938 \tCost: 0.1\nEpoch:  2/ 4 \tBatch: 900/938 \tCost: 0.22\ntraining accuracy: 95.7\nTime: 0.55 min \n\nEpoch:  3/ 4 \tBatch:   0/938 \tCost: 0.13\nEpoch:  3/ 4 \tBatch:  50/938 \tCost: 0.045\nEpoch:  3/ 4 \tBatch: 100/938 \tCost: 0.089\nEpoch:  3/ 4 \tBatch: 150/938 \tCost: 0.19\nEpoch:  3/ 4 \tBatch: 200/938 \tCost: 0.16\nEpoch:  3/ 4 \tBatch: 250/938 \tCost: 0.1\nEpoch:  3/ 4 \tBatch: 300/938 \tCost: 0.13\nEpoch:  3/ 4 \tBatch: 350/938 \tCost: 0.26\nEpoch:  3/ 4 \tBatch: 400/938 \tCost: 0.23\nEpoch:  3/ 4 \tBatch: 450/938 \tCost: 0.24\nEpoch:  3/ 4 \tBatch: 500/938 \tCost: 0.17\nEpoch:  3/ 4 \tBatch: 550/938 \tCost: 0.09\nEpoch:  3/ 4 \tBatch: 600/938 \tCost: 0.2\nEpoch:  3/ 4 \tBatch: 650/938 \tCost: 0.12\nEpoch:  3/ 4 \tBatch: 700/938 \tCost: 0.12\nEpoch:  3/ 4 \tBatch: 750/938 \tCost: 0.18\nEpoch:  3/ 4 \tBatch: 800/938 \tCost: 0.062\nEpoch:  3/ 4 \tBatch: 850/938 \tCost: 0.12\nEpoch:  3/ 4 \tBatch: 900/938 \tCost: 0.16\ntraining accuracy: 96.9\nTime: 0.82 min \n\nEpoch:  4/ 4 \tBatch:   0/938 \tCost: 0.061\nEpoch:  4/ 4 \tBatch:  50/938 \tCost: 0.067\nEpoch:  4/ 4 \tBatch: 100/938 \tCost: 0.18\nEpoch:  4/ 4 \tBatch: 150/938 \tCost: 0.22\nEpoch:  4/ 4 \tBatch: 200/938 \tCost: 0.048\nEpoch:  4/ 4 \tBatch: 250/938 \tCost: 0.031\nEpoch:  4/ 4 \tBatch: 300/938 \tCost: 0.1\nEpoch:  4/ 4 \tBatch: 350/938 \tCost: 0.12\nEpoch:  4/ 4 \tBatch: 400/938 \tCost: 0.21\nEpoch:  4/ 4 \tBatch: 450/938 \tCost: 0.019\nEpoch:  4/ 4 \tBatch: 500/938 \tCost: 0.044\nEpoch:  4/ 4 \tBatch: 550/938 \tCost: 0.08\nEpoch:  4/ 4 \tBatch: 600/938 \tCost: 0.048\nEpoch:  4/ 4 \tBatch: 650/938 \tCost: 0.026\nEpoch:  4/ 4 \tBatch: 700/938 \tCost: 0.2\nEpoch:  4/ 4 \tBatch: 750/938 \tCost: 0.05\nEpoch:  4/ 4 \tBatch: 800/938 \tCost: 0.22\nEpoch:  4/ 4 \tBatch: 850/938 \tCost: 0.034\nEpoch:  4/ 4 \tBatch: 900/938 \tCost: 0.13\ntraining accuracy: 97.6\nTime: 1.1 min \n\n"
    }
   ],
   "source": [
    "def compute_acc(net, data_loader):\n",
    "    net.eval()\n",
    "    correct_pred, num_examples = 0, 0\n",
    "    with torch.no_grad():\n",
    "        for features, targets in data_loader:\n",
    "            features = features.view(-1, 28*28).to(device) # put on GPU\n",
    "            targets = targets.to(device)\n",
    "            logits, probs = net(features)\n",
    "            _, predicted_labels = torch.max(probs, 1)\n",
    "            num_examples += targets.size(0)\n",
    "            correct_pred += (predicted_labels == targets).sum()\n",
    "        return correct_pred.float() / num_examples * 100\n",
    "\n",
    "start_time = time.time()\n",
    "for epoch in range(num_epochs):\n",
    "    model.train()\n",
    "    for batch_idx, (features, targets) in enumerate(train_loader):\n",
    "        features = features.view(-1, 28*28).to(device)\n",
    "        targets = targets.to(device)\n",
    "\n",
    "        # forward and backprop\n",
    "        logits, probs = model(features)\n",
    "        cost = F.cross_entropy(logits, targets)\n",
    "        optimizer.zero_grad()\n",
    "\n",
    "        cost.backward()\n",
    "\n",
    "        # update params\n",
    "        optimizer.step()\n",
    "\n",
    "        if not batch_idx % 50:\n",
    "            print(f'Epoch: {epoch+1:2}/{num_epochs:2} \\tBatch: {batch_idx:3}/{len(train_loader):3} \\tCost: {cost:.2}')\n",
    "\n",
    "    with torch.set_grad_enabled(False):\n",
    "        print(f'training accuracy: {compute_acc(model, train_loader):.3}')\n",
    "\n",
    "    print(f'Time: {((time.time() - start_time) / 60):.2} min \\n')\n"
   ]
  },
  {
   "cell_type": "code",
   "execution_count": 7,
   "metadata": {},
   "outputs": [
    {
     "name": "stdout",
     "output_type": "stream",
     "text": "Test accuracy: 97.61%\n"
    }
   ],
   "source": [
    "print('Test accuracy: %.2f%%' % (compute_acc(model, test_loader)))\n"
   ]
  },
  {
   "cell_type": "code",
   "execution_count": null,
   "metadata": {},
   "outputs": [],
   "source": [
    "\n",
    "\n",
    "\n",
    "\n",
    "\n",
    "\n",
    "\n",
    "\n",
    "\n"
   ]
  }
 ]
}